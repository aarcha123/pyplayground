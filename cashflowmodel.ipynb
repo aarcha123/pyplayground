{
 "cells": [
  {
   "cell_type": "code",
   "execution_count": null,
   "metadata": {},
   "outputs": [],
   "source": [
    "import pandas as pd\n",
    "import numpy as np\n",
    "import matplotlib.pyplot as plt\n",
    "from pprint import pprint\n",
    "from sklearn import model_selection\n",
    "from sklearn.linear_model import LinearRegression"
   ]
  },
  {
   "cell_type": "code",
   "execution_count": null,
   "metadata": {},
   "outputs": [],
   "source": [
    "def extract_features(dataset):\n",
    "    grouped=dataset.groupby('customerID',as_index=False)\n",
    "    invoice_count=grouped.agg({\"invoiceNumber\":\"count\"})\n",
    "    invoice_count.columns=['customerID','total']\n",
    "    \n",
    "    delayed=dataset[(dataset.DaysLate>0)]\n",
    "    delayed=delayed.groupby('customerID',as_index=False)\n",
    "    delayed_invoice_count=delayed.agg({'invoiceNumber':'count'})\n",
    "    delayed_invoice_count.columns=['customerID','delayed']\n",
    "    \n",
    "    delayed_days_avg=delayed.agg({'DaysLate':'mean'})\n",
    "    delayed_days_avg.columns=['customerID','avgDaysDelayed']\n",
    "    \n",
    "    settled_days_avg=grouped.agg({'DaysToSettle':'mean'})\n",
    "    settled_days_avg.columns=['customerID','avgDaysToSettle']\n",
    "    \n",
    "    invoice_count_stats=pd.merge(invoice_count,delayed_invoice_count,on='customerID',how='left').fillna(0)\n",
    "    invoice_count_stats=invoice_count_stats.sort_values('customerID')\n",
    "    invoice_count_stats['paid']=invoice_count_stats['total']-invoice_count_stats['delayed']\n",
    "    invoice_count_stats['delayRatio']=(invoice_count_stats['delayed']/invoice_count_stats['total'])\n",
    "    \n",
    "    paid_tot=grouped.agg({\"InvoiceAmount\":\"sum\"})\n",
    "    paid_tot.columns=['customerID','totalAmt']\n",
    "    delayed_tot=delayed.agg({\"InvoiceAmount\":\"sum\"})\n",
    "    delayed_tot.columns=['customerID','delayedAmt']\n",
    "    \n",
    "    invoice_amt_stats=pd.merge(paid_tot,delayed_tot,on='customerID',how='left').fillna(0)\n",
    "    invoice_amt_stats['paidAmt']=invoice_amt_stats['totalAmt']-invoice_amt_stats['delayedAmt']\n",
    "    invoice_amt_stats['delayAmtRatio']=(invoice_amt_stats['delayedAmt']/invoice_amt_stats['totalAmt'])\n",
    "    \n",
    "    payer_stats=pd.merge(invoice_count_stats,invoice_amt_stats,on=\"customerID\",how='left')\n",
    "    payer_stats=pd.merge(payer_stats,delayed_days_avg,on=\"customerID\",how=\"left\").fillna(0)\n",
    "    payer_stats=pd.merge(payer_stats,settled_days_avg,on=\"customerID\",how=\"left\").fillna(0)\n",
    "    \n",
    "    dataset_new=pd.merge(dataset,payer_stats,on='customerID',how='left').fillna(0)\n",
    "    custlist=payer_stats['customerID'].tolist()\n",
    "    cat = {x: custlist.index(x) for x in custlist}\n",
    "    dataset_new['cust']= dataset_new['customerID'].map(cat)\n",
    "    dataset_new=dataset_new[['cust', 'InvoiceAmount','total','totalAmt','avgDaysToSettle','DaysToSettle']]\n",
    "    \n",
    "    dataset_new[['cust' ,'InvoiceAmount' ,'total' , 'totalAmt',\n",
    " 'avgDaysToSettle', 'DaysToSettle']] = dataset_new[['cust', 'InvoiceAmount' ,'total', 'totalAmt',\n",
    " 'avgDaysToSettle' ,'DaysToSettle']].apply(pd.to_numeric)\n",
    "    \n",
    "    return dataset_new\n",
    "\n"
   ]
  },
  {
   "cell_type": "code",
   "execution_count": null,
   "metadata": {},
   "outputs": [],
   "source": [
    "def train(filename):\n",
    "    dataset = pd.read_csv(filename)\n",
    "    dataset_new=extract_features(dataset)\n",
    "    array=dataset_new.values\n",
    "    X=array[:,0:5]\n",
    "    Y=array[:,5]\n",
    "    validation_size=0.20\n",
    "    seed=7\n",
    "    X_train, X_validation, Y_train, Y_validation = model_selection.train_test_split(X,Y,test_size=validation_size,random_state=seed)\n",
    "    lm=LinearRegression()\n",
    "    lm.fit(X_train,Y_train)\n",
    "    return lm"
   ]
  },
  {
   "cell_type": "code",
   "execution_count": null,
   "metadata": {},
   "outputs": [],
   "source": [
    "def validate():\n",
    "    "
   ]
  }
 ],
 "metadata": {
  "kernelspec": {
   "display_name": "Python 3",
   "language": "python",
   "name": "python3"
  },
  "language_info": {
   "codemirror_mode": {
    "name": "ipython",
    "version": 3
   },
   "file_extension": ".py",
   "mimetype": "text/x-python",
   "name": "python",
   "nbconvert_exporter": "python",
   "pygments_lexer": "ipython3",
   "version": "3.6.3"
  }
 },
 "nbformat": 4,
 "nbformat_minor": 2
}
