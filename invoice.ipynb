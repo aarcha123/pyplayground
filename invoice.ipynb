{
 "cells": [
  {
   "cell_type": "code",
   "execution_count": 113,
   "metadata": {},
   "outputs": [],
   "source": [
    "import pandas as pd\n",
    "import numpy as np\n",
    "import matplotlib.pyplot as plt\n",
    "from pprint import pprint\n",
    "import dateutil\n",
    "from datetime import datetime\n",
    "from sklearn import model_selection\n",
    "from sklearn.linear_model import LinearRegression\n",
    "from sklearn.feature_selection import RFE\n"
   ]
  },
  {
   "cell_type": "code",
   "execution_count": 114,
   "metadata": {},
   "outputs": [
    {
     "name": "stdout",
     "output_type": "stream",
     "text": [
      "['countryCode' 'customerID' 'PaperlessDate' 'invoiceNumber' 'InvoiceDate'\n",
      " 'DueDate' 'InvoiceAmount' 'Disputed' 'SettledDate' 'PaperlessBill'\n",
      " 'DaysToSettle' 'DaysLate']\n"
     ]
    }
   ],
   "source": [
    "dataset = pd.read_csv('ar.csv')\n",
    "print(dataset.columns.values)"
   ]
  },
  {
   "cell_type": "code",
   "execution_count": 115,
   "metadata": {},
   "outputs": [
    {
     "name": "stdout",
     "output_type": "stream",
     "text": [
      "Total no of invoice: 2466\n"
     ]
    }
   ],
   "source": [
    "#total no of invoices\n",
    "totalinvoices=dataset.shape[0]\n",
    "#dataset['customerID'].count()\n",
    "print(\"Total no of invoice:\",totalinvoices)"
   ]
  },
  {
   "cell_type": "code",
   "execution_count": 116,
   "metadata": {},
   "outputs": [
    {
     "name": "stdout",
     "output_type": "stream",
     "text": [
      "No of delayed invoices: 877\n"
     ]
    }
   ],
   "source": [
    "#No. of delayed invoices\n",
    "delayed=dataset[(dataset.DaysLate>0)]\n",
    "totaldelayed=delayed.shape[0]\n",
    "print(\"No of delayed invoices:\",totaldelayed)"
   ]
  },
  {
   "cell_type": "code",
   "execution_count": 117,
   "metadata": {},
   "outputs": [
    {
     "name": "stdout",
     "output_type": "stream",
     "text": [
      "percentage of delayed invoice: 35.56366585563666\n"
     ]
    }
   ],
   "source": [
    "percentofdelayed=(totaldelayed/totalinvoices)*100\n",
    "print(\"percentage of delayed invoice:\",percentofdelayed)"
   ]
  },
  {
   "cell_type": "code",
   "execution_count": 118,
   "metadata": {},
   "outputs": [
    {
     "name": "stdout",
     "output_type": "stream",
     "text": [
      "Total no of payers: 100\n"
     ]
    }
   ],
   "source": [
    "#No of payers in the data set\n",
    "#totalpayers=len(dataset.groupby('customerID'))\n",
    "#print(dataset['customerID'].value_counts())\n",
    "totalpayers=(dataset['customerID'].nunique())\n",
    "print(\"Total no of payers:\",totalpayers)"
   ]
  },
  {
   "cell_type": "code",
   "execution_count": 119,
   "metadata": {},
   "outputs": [
    {
     "name": "stdout",
     "output_type": "stream",
     "text": [
      "max delayed days: 45\n"
     ]
    }
   ],
   "source": [
    "# max delayed days\n",
    "print(\"max delayed days:\",dataset['DaysLate'].max())"
   ]
  },
  {
   "cell_type": "code",
   "execution_count": 120,
   "metadata": {},
   "outputs": [
    {
     "name": "stdout",
     "output_type": "stream",
     "text": [
      "(100, 2)\n",
      "['customerID' 'total']\n",
      "   customerID  total\n",
      "0  0187-ERLSR     16\n",
      "1  0379-NEVHP     27\n",
      "2  0465-DTULQ     26\n",
      "3  0625-TNJFG     28\n",
      "4  0688-XNJRO     34\n"
     ]
    }
   ],
   "source": [
    "#No of invoice per payer\n",
    "grouped=dataset.groupby('customerID',as_index=False)\n",
    "invoice_count=grouped.agg({\"invoiceNumber\":\"count\"})\n",
    "invoice_count.columns=['customerID','total']\n",
    "invoice_count_sort=invoice_count.sort_values('customerID')\n",
    "print(invoice_count.shape)\n",
    "print(invoice_count.columns.values)\n",
    "print(invoice_count_sort.head(5))\n",
    "\n",
    "#my.plot()\n",
    "#plt.show()"
   ]
  },
  {
   "cell_type": "code",
   "execution_count": 121,
   "metadata": {},
   "outputs": [
    {
     "name": "stdout",
     "output_type": "stream",
     "text": [
      "(83, 2)\n",
      "['customerID' 'delayed']\n",
      "   customerID  delayed\n",
      "0  0379-NEVHP        1\n",
      "1  0465-DTULQ       14\n",
      "2  0625-TNJFG        5\n",
      "3  0688-XNJRO       32\n",
      "4  0706-NRGUP       10\n"
     ]
    }
   ],
   "source": [
    "# delayed invoices per payer\n",
    "delayed=delayed.groupby('customerID',as_index=False)\n",
    "delayed_invoice_count=delayed.agg({'invoiceNumber':'count'})\n",
    "#right = pd.DataFrame(mydelay)\n",
    "delayed_invoice_count.columns=['customerID','delayed']\n",
    "\n",
    "print(delayed_invoice_count.shape)\n",
    "delayed_invoice_count_sort=delayed_invoice_count.sort_values('customerID')\n",
    "print(delayed_invoice_count.columns.values)\n",
    "print(delayed_invoice_count_sort.head(5))\n",
    "#mydelay.plot()\n",
    "#plt.show()"
   ]
  },
  {
   "cell_type": "code",
   "execution_count": 122,
   "metadata": {},
   "outputs": [
    {
     "name": "stdout",
     "output_type": "stream",
     "text": [
      "   customerID  avgDaysDelayed\n",
      "0  0379-NEVHP       17.000000\n",
      "1  0465-DTULQ        9.857143\n",
      "2  0625-TNJFG        4.000000\n",
      "3  0688-XNJRO       15.343750\n",
      "4  0706-NRGUP        6.900000\n"
     ]
    }
   ],
   "source": [
    "delayed_days_avg=delayed.agg({'DaysLate':'mean'})\n",
    "delayed_days_avg.columns=['customerID','avgDaysDelayed']\n",
    "print(delayed_days_avg.head(5))\n"
   ]
  },
  {
   "cell_type": "code",
   "execution_count": 123,
   "metadata": {},
   "outputs": [
    {
     "name": "stdout",
     "output_type": "stream",
     "text": [
      "   customerID  avgDaysToSettle\n",
      "0  0187-ERLSR        12.937500\n",
      "1  0379-NEVHP        17.444444\n",
      "2  0465-DTULQ        33.730769\n",
      "3  0625-TNJFG        24.750000\n",
      "4  0688-XNJRO        44.382353\n"
     ]
    }
   ],
   "source": [
    "settled_days_avg=grouped.agg({'DaysToSettle':'mean'})\n",
    "settled_days_avg.columns=['customerID','avgDaysToSettle']\n",
    "print(settled_days_avg.head(5))"
   ]
  },
  {
   "cell_type": "code",
   "execution_count": 124,
   "metadata": {},
   "outputs": [
    {
     "name": "stdout",
     "output_type": "stream",
     "text": [
      "   customerID  total  delayed  paid  delayRatio\n",
      "0  0187-ERLSR     16      0.0  16.0    0.000000\n",
      "1  0379-NEVHP     27      1.0  26.0    0.037037\n",
      "2  0465-DTULQ     26     14.0  12.0    0.538462\n",
      "3  0625-TNJFG     28      5.0  23.0    0.178571\n",
      "4  0688-XNJRO     34     32.0   2.0    0.941176\n",
      "5  0706-NRGUP     18     10.0   8.0    0.555556\n",
      "6  0709-LZRJV     25     11.0  14.0    0.440000\n",
      "7  0783-PEPYR     21     20.0   1.0    0.952381\n",
      "8  1080-NDGAE     31     18.0  13.0    0.580645\n",
      "9  1168-BEASA     23      2.0  21.0    0.086957\n"
     ]
    }
   ],
   "source": [
    "# delay ratio per payer\n",
    "invoice_count_stats=pd.merge(invoice_count,delayed_invoice_count,on='customerID',how='left').fillna(0)\n",
    "invoice_count_stats=invoice_count_stats.sort_values('customerID')\n",
    "invoice_count_stats['paid']=invoice_count_stats['total']-invoice_count_stats['delayed']\n",
    "invoice_count_stats['delayRatio']=(invoice_count_stats['delayed']/invoice_count_stats['total'])\n",
    "print(invoice_count_stats.head(10))"
   ]
  },
  {
   "cell_type": "code",
   "execution_count": 125,
   "metadata": {},
   "outputs": [
    {
     "name": "stdout",
     "output_type": "stream",
     "text": [
      "['customerID' 'InvoiceAmount']\n",
      "   customerID  totalAmt\n",
      "0  0187-ERLSR   1072.63\n",
      "1  0379-NEVHP   1584.18\n",
      "2  0465-DTULQ   1360.12\n",
      "3  0625-TNJFG   1627.26\n",
      "4  0688-XNJRO   1231.45\n"
     ]
    }
   ],
   "source": [
    "# total paid invoice amount per payer\n",
    "paid_tot=grouped.agg({\"InvoiceAmount\":\"sum\"})\n",
    "print(paid_tot.columns.values)\n",
    "paid_tot.columns=['customerID','totalAmt']\n",
    "print(paid_tot.head(5))"
   ]
  },
  {
   "cell_type": "code",
   "execution_count": 126,
   "metadata": {},
   "outputs": [
    {
     "name": "stdout",
     "output_type": "stream",
     "text": [
      "   customerID  delayedAmt\n",
      "0  0379-NEVHP       48.65\n",
      "1  0465-DTULQ      670.39\n",
      "2  0625-TNJFG      301.94\n",
      "3  0688-XNJRO     1181.00\n",
      "4  0706-NRGUP      325.42\n"
     ]
    }
   ],
   "source": [
    "# total delayed invoice amount per payer\n",
    "delayed_tot=delayed.agg({\"InvoiceAmount\":\"sum\"})\n",
    "delayed_tot.columns=['customerID','delayedAmt']\n",
    "print(delayed_tot.head(5))"
   ]
  },
  {
   "cell_type": "code",
   "execution_count": 127,
   "metadata": {},
   "outputs": [
    {
     "name": "stdout",
     "output_type": "stream",
     "text": [
      "   customerID  totalAmt  delayedAmt  paidAmt  delayAmtRatio\n",
      "0  0187-ERLSR   1072.63        0.00  1072.63       0.000000\n",
      "1  0379-NEVHP   1584.18       48.65  1535.53       0.030710\n",
      "2  0465-DTULQ   1360.12      670.39   689.73       0.492890\n",
      "3  0625-TNJFG   1627.26      301.94  1325.32       0.185551\n",
      "4  0688-XNJRO   1231.45     1181.00    50.45       0.959032\n"
     ]
    }
   ],
   "source": [
    "invoice_amt_stats=pd.merge(paid_tot,delayed_tot,on='customerID',how='left').fillna(0)\n",
    "invoice_amt_stats['paidAmt']=invoice_amt_stats['totalAmt']-invoice_amt_stats['delayedAmt']\n",
    "invoice_amt_stats['delayAmtRatio']=(invoice_amt_stats['delayedAmt']/invoice_amt_stats['totalAmt'])\n",
    "print(invoice_amt_stats.head(5))"
   ]
  },
  {
   "cell_type": "code",
   "execution_count": 128,
   "metadata": {},
   "outputs": [
    {
     "name": "stdout",
     "output_type": "stream",
     "text": [
      "   customerID  total  delayed  paid  delayRatio  totalAmt  delayedAmt  \\\n",
      "0  0187-ERLSR     16      0.0  16.0    0.000000   1072.63        0.00   \n",
      "1  0379-NEVHP     27      1.0  26.0    0.037037   1584.18       48.65   \n",
      "\n",
      "   paidAmt  delayAmtRatio  avgDaysDelayed  avgDaysToSettle  \n",
      "0  1072.63        0.00000             0.0        12.937500  \n",
      "1  1535.53        0.03071            17.0        17.444444  \n"
     ]
    }
   ],
   "source": [
    "payer_stats=pd.merge(invoice_count_stats,invoice_amt_stats,on=\"customerID\",how='left')\n",
    "payer_stats=pd.merge(payer_stats,delayed_days_avg,on=\"customerID\",how=\"left\").fillna(0)\n",
    "payer_stats=pd.merge(payer_stats,settled_days_avg,on=\"customerID\",how=\"left\").fillna(0)\n",
    "\n",
    "print(payer_stats.head(2))\n"
   ]
  },
  {
   "cell_type": "code",
   "execution_count": 129,
   "metadata": {},
   "outputs": [
    {
     "name": "stdout",
     "output_type": "stream",
     "text": [
      "   countryCode  customerID PaperlessDate  invoiceNumber InvoiceDate   DueDate  \\\n",
      "0          391  0379-NEVHP      4/6/2013         611365    1/2/2013  2/1/2013   \n",
      "\n",
      "   InvoiceAmount Disputed SettledDate PaperlessBill  DaysToSettle  DaysLate  \\\n",
      "0          55.94       No   1/15/2013         Paper            13         0   \n",
      "\n",
      "   invoicemonth  invoicedate  invoiceday  monthend  firsthalfmonth  paperless  \n",
      "0             1            2           2         0               1          0  \n"
     ]
    }
   ],
   "source": [
    "\n",
    "dataset['invoicemonth']=pd.to_datetime(dataset['InvoiceDate']).dt.month\n",
    "dataset['invoicedate']=pd.to_datetime(dataset['InvoiceDate']).dt.day\n",
    "dataset['invoiceday']=pd.to_datetime(dataset['InvoiceDate']).dt.weekday\n",
    "dataset['monthend']=np.where(dataset['invoicedate']>27,1,0)\n",
    "dataset['firsthalfmonth']=np.where(dataset['invoicedate']<16,1,0)\n",
    "paperless={'Paper':0,'Electronic':1}\n",
    "dataset['paperless']=dataset['PaperlessBill'].map(paperless)\n",
    "\n",
    "#print(dt.year, dt.month, dt.day)\n",
    "print(dataset.head(1))\n",
    "\n"
   ]
  },
  {
   "cell_type": "code",
   "execution_count": 160,
   "metadata": {},
   "outputs": [
    {
     "name": "stdout",
     "output_type": "stream",
     "text": [
      "['InvoiceAmount' 'invoicemonth' 'monthend' 'firsthalfmonth' 'paperless'\n",
      " 'avgDaysToSettle' 'DaysToSettle']\n",
      "   InvoiceAmount  invoicemonth  monthend  firsthalfmonth  paperless  \\\n",
      "0          55.94             1         0               1          0   \n",
      "1          61.74             1         0               0          1   \n",
      "\n",
      "   avgDaysToSettle  DaysToSettle  \n",
      "0        17.444444            13  \n",
      "1        25.777778            36  \n"
     ]
    }
   ],
   "source": [
    "#dataset.columns.values[1]='payer'\n",
    "#dataset_new=dataset.join(payer_stats.set_index('payer'))\n",
    "dataset_new=pd.merge(dataset,payer_stats,on='customerID',how='left').fillna(0)\n",
    "custlist=payer_stats['customerID'].tolist()\n",
    "cat = {x: custlist.index(x) for x in custlist}\n",
    "dataset_new['cust']= dataset_new['customerID'].map(cat)\n",
    "\n",
    "## features used for training\n",
    "dataset_new=dataset_new[['cust','InvoiceAmount','invoicemonth','monthend','firsthalfmonth','paperless','avgDaysToSettle','DaysToSettle']]\n",
    "                         #'total','totalAmt','avgDaysToSettle','DaysToSettle']]\n",
    "                            # 'avgDaysToSettle'\n",
    "print(dataset_new.columns.values)\n",
    "#print(dataset_new.shape)\n",
    "#dummies = pd.get_dummies(dataset_new.customerID)\n",
    "print(dataset_new.head(2))\n",
    "\n",
    "\n"
   ]
  },
  {
   "cell_type": "code",
   "execution_count": 161,
   "metadata": {},
   "outputs": [
    {
     "data": {
      "image/png": "[encoded data removed]",
      "text/plain": [
       "<Figure size 432x288 with 1 Axes>"
      ]
     },
     "metadata": {},
     "output_type": "display_data"
    }
   ],
   "source": [
    "dataset.plot(x='monthend', y='DaysToSettle', style='o')  \n",
    "plt.title('monthend vs DaysToSettle')  \n",
    "plt.xlabel('monthend ')  \n",
    "plt.ylabel('DaysToSettle')  \n",
    "plt.show() "
   ]
  },
  {
   "cell_type": "code",
   "execution_count": 162,
   "metadata": {},
   "outputs": [
    {
     "name": "stdout",
     "output_type": "stream",
     "text": [
      "InvoiceAmount      float64\n",
      "invoicemonth         int64\n",
      "monthend             int64\n",
      "firsthalfmonth       int64\n",
      "paperless            int64\n",
      "avgDaysToSettle    float64\n",
      "DaysToSettle         int64\n",
      "dtype: object\n"
     ]
    }
   ],
   "source": [
    "cols=dataset_new.columns\n",
    "dataset_new[cols] = dataset_new[cols].apply(pd.to_numeric)\n",
    "print(dataset_new.dtypes)"
   ]
  },
  {
   "cell_type": "code",
   "execution_count": 163,
   "metadata": {},
   "outputs": [],
   "source": [
    "array=dataset_new.values\n",
    "n=len(dataset_new.columns)\n",
    "X=array[:,0:n-1]\n",
    "Y=array[:,n-1]\n",
    "seed=7\n",
    "X_train, X_rest, Y_train, Y_rest = model_selection.train_test_split(X,Y,test_size=0.40,random_state=seed)\n",
    "X_validation,X_test,Y_validation,Y_test=model_selection.train_test_split(X_rest,Y_rest,test_size=0.50,random_state=seed)"
   ]
  },
  {
   "cell_type": "code",
   "execution_count": 164,
   "metadata": {},
   "outputs": [],
   "source": [
    "# np.argwhere(np.isinf(X_train))\n"
   ]
  },
  {
   "cell_type": "code",
   "execution_count": 165,
   "metadata": {},
   "outputs": [],
   "source": [
    "lm=LinearRegression()\n",
    "#lm.fit(X_train,Y_train)"
   ]
  },
  {
   "cell_type": "code",
   "execution_count": 166,
   "metadata": {},
   "outputs": [
    {
     "name": "stdout",
     "output_type": "stream",
     "text": [
      "Num Features: 4\n",
      "Selected Features: [False False  True  True  True  True]\n",
      "Feature Ranking: [3 2 1 1 1 1]\n"
     ]
    }
   ],
   "source": [
    "#predict_train=lm.predict(X_train)\n",
    "#predict_val=lm.predict(X_validation)\n",
    "rfe = RFE(lm, 4)\n",
    "fit = rfe.fit(X_train, Y_train)\n",
    "print(\"Num Features: %d\" % fit.n_features_)\n",
    "print(\"Selected Features: %s\" % fit.support_)\n",
    "print(\"Feature Ranking: %s\" % fit.ranking_)"
   ]
  },
  {
   "cell_type": "code",
   "execution_count": 167,
   "metadata": {},
   "outputs": [
    {
     "data": {
      "text/plain": [
       "LinearRegression(copy_X=True, fit_intercept=True, n_jobs=1, normalize=False)"
      ]
     },
     "execution_count": 167,
     "metadata": {},
     "output_type": "execute_result"
    }
   ],
   "source": [
    "lm.fit(X_train,Y_train)"
   ]
  },
  {
   "cell_type": "code",
   "execution_count": 168,
   "metadata": {},
   "outputs": [
    {
     "data": {
      "text/plain": [
       "0.6784911702895905"
      ]
     },
     "execution_count": 168,
     "metadata": {},
     "output_type": "execute_result"
    }
   ],
   "source": [
    "# %  of changes in Y that can be  explained using X\n",
    "lm.score(X_validation, Y_validation)"
   ]
  },
  {
   "cell_type": "code",
   "execution_count": 169,
   "metadata": {},
   "outputs": [
    {
     "data": {
      "text/plain": [
       "0.6761413886250978"
      ]
     },
     "execution_count": 169,
     "metadata": {},
     "output_type": "execute_result"
    }
   ],
   "source": [
    "lm.score(X_train, Y_train)"
   ]
  },
  {
   "cell_type": "code",
   "execution_count": 170,
   "metadata": {},
   "outputs": [
    {
     "data": {
      "text/plain": [
       "48.61297794984481"
      ]
     },
     "execution_count": 170,
     "metadata": {},
     "output_type": "execute_result"
    }
   ],
   "source": [
    "from sklearn.metrics import mean_squared_error\n",
    "\n",
    "y_predict = lm.predict(X_validation)\n",
    "\n",
    "regression_model_mse = mean_squared_error(y_predict, Y_validation)\n",
    "\n",
    "regression_model_mse"
   ]
  },
  {
   "cell_type": "code",
   "execution_count": 171,
   "metadata": {},
   "outputs": [
    {
     "data": {
      "text/plain": [
       "6.972300764442453"
      ]
     },
     "execution_count": 171,
     "metadata": {},
     "output_type": "execute_result"
    }
   ],
   "source": [
    "import math\n",
    "\n",
    "math.sqrt(regression_model_mse)"
   ]
  },
  {
   "cell_type": "code",
   "execution_count": 106,
   "metadata": {},
   "outputs": [],
   "source": [
    "import pickle\n",
    "\n",
    "filename = 'finalized_model.sav'\n",
    "pickle.dump(lm, open(filename, 'wb'))"
   ]
  },
  {
   "cell_type": "code",
   "execution_count": 107,
   "metadata": {},
   "outputs": [
    {
     "name": "stdout",
     "output_type": "stream",
     "text": [
      "0.6532099296210785\n"
     ]
    }
   ],
   "source": [
    "loaded_model = pickle.load(open(filename, 'rb'))\n",
    "result = loaded_model.score(X_test, Y_test)\n",
    "print(result)"
   ]
  },
  {
   "cell_type": "code",
   "execution_count": null,
   "metadata": {},
   "outputs": [],
   "source": []
  }
 ],
 "metadata": {
  "kernelspec": {
   "display_name": "Python 3",
   "language": "python",
   "name": "python3"
  },
  "language_info": {
   "codemirror_mode": {
    "name": "ipython",
    "version": 3
   },
   "file_extension": ".py",
   "mimetype": "text/x-python",
   "name": "python",
   "nbconvert_exporter": "python",
   "pygments_lexer": "ipython3",
   "version": "3.6.3"
  }
 },
 "nbformat": 4,
 "nbformat_minor": 2
}
