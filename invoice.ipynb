{
 "cells": [
  {
   "cell_type": "code",
   "execution_count": 47,
   "metadata": {},
   "outputs": [],
   "source": [
    "import pandas as pd\n",
    "import numpy as np\n",
    "import matplotlib.pyplot as plt\n",
    "from pprint import pprint\n",
    "import dateutil\n",
    "from sklearn import model_selection\n",
    "from sklearn.linear_model import LinearRegression"
   ]
  },
  {
   "cell_type": "code",
   "execution_count": 23,
   "metadata": {},
   "outputs": [
    {
     "name": "stdout",
     "output_type": "stream",
     "text": [
      "['countryCode' 'customerID' 'PaperlessDate' 'invoiceNumber' 'InvoiceDate'\n",
      " 'DueDate' 'InvoiceAmount' 'Disputed' 'SettledDate' 'PaperlessBill'\n",
      " 'DaysToSettle' 'DaysLate']\n"
     ]
    }
   ],
   "source": [
    "dataset = pd.read_csv('ar.csv')\n",
    "print(dataset.columns.values)"
   ]
  },
  {
   "cell_type": "code",
   "execution_count": 24,
   "metadata": {},
   "outputs": [
    {
     "name": "stdout",
     "output_type": "stream",
     "text": [
      "Total no of invoice: 2466\n"
     ]
    }
   ],
   "source": [
    "#total no of invoices\n",
    "totalinvoices=dataset.shape[0]\n",
    "#dataset['customerID'].count()\n",
    "print(\"Total no of invoice:\",totalinvoices)"
   ]
  },
  {
   "cell_type": "code",
   "execution_count": 25,
   "metadata": {},
   "outputs": [
    {
     "name": "stdout",
     "output_type": "stream",
     "text": [
      "No of delayed invoices: 877\n"
     ]
    }
   ],
   "source": [
    "#No. of delayed invoices\n",
    "delayed=dataset[(dataset.DaysLate>0)]\n",
    "totaldelayed=delayed.shape[0]\n",
    "print(\"No of delayed invoices:\",totaldelayed)"
   ]
  },
  {
   "cell_type": "code",
   "execution_count": 26,
   "metadata": {},
   "outputs": [
    {
     "name": "stdout",
     "output_type": "stream",
     "text": [
      "percentage of delayed invoice: 35.56366585563666\n"
     ]
    }
   ],
   "source": [
    "percentofdelayed=(totaldelayed/totalinvoices)*100\n",
    "print(\"percentage of delayed invoice:\",percentofdelayed)"
   ]
  },
  {
   "cell_type": "code",
   "execution_count": 27,
   "metadata": {},
   "outputs": [
    {
     "name": "stdout",
     "output_type": "stream",
     "text": [
      "Total no of payers: 100\n"
     ]
    }
   ],
   "source": [
    "#No of payers in the data set\n",
    "#totalpayers=len(dataset.groupby('customerID'))\n",
    "#print(dataset['customerID'].value_counts())\n",
    "totalpayers=(dataset['customerID'].nunique())\n",
    "print(\"Total no of payers:\",totalpayers)"
   ]
  },
  {
   "cell_type": "code",
   "execution_count": 28,
   "metadata": {},
   "outputs": [
    {
     "name": "stdout",
     "output_type": "stream",
     "text": [
      "max delayed days: 45\n"
     ]
    }
   ],
   "source": [
    "# max delayed days\n",
    "print(\"max delayed days:\",dataset['DaysLate'].max())"
   ]
  },
  {
   "cell_type": "code",
   "execution_count": 29,
   "metadata": {},
   "outputs": [
    {
     "name": "stdout",
     "output_type": "stream",
     "text": [
      "(100, 2)\n",
      "['customerID' 'total']\n",
      "   customerID  total\n",
      "0  0187-ERLSR     16\n",
      "1  0379-NEVHP     27\n",
      "2  0465-DTULQ     26\n",
      "3  0625-TNJFG     28\n",
      "4  0688-XNJRO     34\n"
     ]
    }
   ],
   "source": [
    "#No of invoice per payer\n",
    "grouped=dataset.groupby('customerID',as_index=False)\n",
    "invoice_count=grouped.agg({\"invoiceNumber\":\"count\"})\n",
    "invoice_count.columns=['customerID','total']\n",
    "invoice_count_sort=invoice_count.sort_values('customerID')\n",
    "#print(left.loc['0379-NEVHP'])\n",
    "print(invoice_count.shape)\n",
    "print(invoice_count.columns.values)\n",
    "print(invoice_count_sort.head(5))\n",
    "\n",
    "#my.plot()\n",
    "#plt.show()"
   ]
  },
  {
   "cell_type": "code",
   "execution_count": 30,
   "metadata": {},
   "outputs": [
    {
     "name": "stdout",
     "output_type": "stream",
     "text": [
      "(83, 2)\n",
      "['customerID' 'delayed']\n",
      "   customerID  delayed\n",
      "0  0379-NEVHP        1\n",
      "1  0465-DTULQ       14\n",
      "2  0625-TNJFG        5\n",
      "3  0688-XNJRO       32\n",
      "4  0706-NRGUP       10\n"
     ]
    }
   ],
   "source": [
    "# delayed invoices per payer\n",
    "delayed=delayed.groupby('customerID',as_index=False)\n",
    "delayed_invoice_count=delayed.agg({'invoiceNumber':'count'})\n",
    "#right = pd.DataFrame(mydelay)\n",
    "delayed_invoice_count.columns=['customerID','delayed']\n",
    "\n",
    "print(delayed_invoice_count.shape)\n",
    "delayed_invoice_count_sort=delayed_invoice_count.sort_values('customerID')\n",
    "print(delayed_invoice_count.columns.values)\n",
    "print(delayed_invoice_count_sort.head(5))\n",
    "#mydelay.plot()\n",
    "#plt.show()"
   ]
  },
  {
   "cell_type": "code",
   "execution_count": 31,
   "metadata": {},
   "outputs": [
    {
     "name": "stdout",
     "output_type": "stream",
     "text": [
      "   customerID  avgDaysDelayed\n",
      "0  0379-NEVHP       17.000000\n",
      "1  0465-DTULQ        9.857143\n",
      "2  0625-TNJFG        4.000000\n",
      "3  0688-XNJRO       15.343750\n",
      "4  0706-NRGUP        6.900000\n"
     ]
    }
   ],
   "source": [
    "delayed_days_avg=delayed.agg({'DaysLate':'mean'})\n",
    "delayed_days_avg.columns=['customerID','avgDaysDelayed']\n",
    "print(delayed_days_avg.head(5))\n"
   ]
  },
  {
   "cell_type": "code",
   "execution_count": 32,
   "metadata": {},
   "outputs": [
    {
     "name": "stdout",
     "output_type": "stream",
     "text": [
      "   customerID  avgDaysToSettle\n",
      "0  0187-ERLSR        12.937500\n",
      "1  0379-NEVHP        17.444444\n",
      "2  0465-DTULQ        33.730769\n",
      "3  0625-TNJFG        24.750000\n",
      "4  0688-XNJRO        44.382353\n"
     ]
    }
   ],
   "source": [
    "settled_days_avg=grouped.agg({'DaysToSettle':'mean'})\n",
    "settled_days_avg.columns=['customerID','avgDaysToSettle']\n",
    "print(settled_days_avg.head(5))"
   ]
  },
  {
   "cell_type": "code",
   "execution_count": 33,
   "metadata": {},
   "outputs": [
    {
     "name": "stdout",
     "output_type": "stream",
     "text": [
      "   customerID  total  delayed  paid   delayRatio\n",
      "0  0187-ERLSR     16      0.0  16.0     0.000000\n",
      "1  0379-NEVHP     27      1.0  26.0     3.846154\n",
      "2  0465-DTULQ     26     14.0  12.0   116.666667\n",
      "3  0625-TNJFG     28      5.0  23.0    21.739130\n",
      "4  0688-XNJRO     34     32.0   2.0  1600.000000\n",
      "5  0706-NRGUP     18     10.0   8.0   125.000000\n",
      "6  0709-LZRJV     25     11.0  14.0    78.571429\n",
      "7  0783-PEPYR     21     20.0   1.0  2000.000000\n",
      "8  1080-NDGAE     31     18.0  13.0   138.461538\n",
      "9  1168-BEASA     23      2.0  21.0     9.523810\n"
     ]
    }
   ],
   "source": [
    "# delay ratio per payer\n",
    "invoice_count_stats=pd.merge(invoice_count,delayed_invoice_count,on='customerID',how='left').fillna(0)\n",
    "invoice_count_stats=invoice_count_stats.sort_values('customerID')\n",
    "invoice_count_stats['paid']=invoice_count_stats['total']-invoice_count_stats['delayed']\n",
    "invoice_count_stats['delayRatio']=(invoice_count_stats['delayed']/invoice_count_stats['paid'])*100\n",
    "print(invoice_count_stats.head(10))"
   ]
  },
  {
   "cell_type": "code",
   "execution_count": 34,
   "metadata": {},
   "outputs": [
    {
     "name": "stdout",
     "output_type": "stream",
     "text": [
      "['customerID' 'InvoiceAmount']\n",
      "   customerID  totalAmt\n",
      "0  0187-ERLSR   1072.63\n",
      "1  0379-NEVHP   1584.18\n",
      "2  0465-DTULQ   1360.12\n",
      "3  0625-TNJFG   1627.26\n",
      "4  0688-XNJRO   1231.45\n"
     ]
    }
   ],
   "source": [
    "# total paid invoice amount per payer\n",
    "paid_tot=grouped.agg({\"InvoiceAmount\":\"sum\"})\n",
    "print(paid_tot.columns.values)\n",
    "paid_tot.columns=['customerID','totalAmt']\n",
    "print(paid_tot.head(5))"
   ]
  },
  {
   "cell_type": "code",
   "execution_count": 35,
   "metadata": {},
   "outputs": [
    {
     "name": "stdout",
     "output_type": "stream",
     "text": [
      "   customerID  delayedAmt\n",
      "0  0379-NEVHP       48.65\n",
      "1  0465-DTULQ      670.39\n",
      "2  0625-TNJFG      301.94\n",
      "3  0688-XNJRO     1181.00\n",
      "4  0706-NRGUP      325.42\n"
     ]
    }
   ],
   "source": [
    "# total delayed invoice amount per payer\n",
    "delayed_tot=delayed.agg({\"InvoiceAmount\":\"sum\"})\n",
    "delayed_tot.columns=['customerID','delayedAmt']\n",
    "print(delayed_tot.head(5))"
   ]
  },
  {
   "cell_type": "code",
   "execution_count": 36,
   "metadata": {},
   "outputs": [
    {
     "name": "stdout",
     "output_type": "stream",
     "text": [
      "   customerID  totalAmt  delayedAmt  paidamt  delayAmtRatio\n",
      "0  0187-ERLSR   1072.63        0.00  1072.63       0.000000\n",
      "1  0379-NEVHP   1584.18       48.65  1535.53       3.070989\n",
      "2  0465-DTULQ   1360.12      670.39   689.73      49.289033\n",
      "3  0625-TNJFG   1627.26      301.94  1325.32      18.555117\n",
      "4  0688-XNJRO   1231.45     1181.00    50.45      95.903204\n"
     ]
    }
   ],
   "source": [
    "invoice_amt_stats=pd.merge(paid_tot,delayed_tot,on='customerID',how='left').fillna(0)\n",
    "invoice_amt_stats['paidamt']=invoice_amt_stats['totalAmt']-invoice_amt_stats['delayedAmt']\n",
    "invoice_amt_stats['delayAmtRatio']=(invoice_amt_stats['delayedAmt']/invoice_amt_stats['totalAmt'])*100\n",
    "print(invoice_amt_stats.head(5))"
   ]
  },
  {
   "cell_type": "code",
   "execution_count": 37,
   "metadata": {},
   "outputs": [
    {
     "name": "stdout",
     "output_type": "stream",
     "text": [
      "   customerID  total  delayed  paid  delayRatio  totalAmt  delayedAmt  \\\n",
      "0  0187-ERLSR     16      0.0  16.0    0.000000   1072.63        0.00   \n",
      "1  0379-NEVHP     27      1.0  26.0    3.846154   1584.18       48.65   \n",
      "\n",
      "   paidamt  delayAmtRatio  avgDaysDelayed  avgDaysToSettle  \n",
      "0  1072.63       0.000000             0.0        12.937500  \n",
      "1  1535.53       3.070989            17.0        17.444444  \n"
     ]
    }
   ],
   "source": [
    "payer_stats=pd.merge(invoice_count_stats,invoice_amt_stats,on=\"customerID\",how='left')\n",
    "payer_stats=pd.merge(payer_stats,delayed_days_avg,on=\"customerID\",how=\"left\").fillna(0)\n",
    "payer_stats=pd.merge(payer_stats,settled_days_avg,on=\"customerID\",how=\"left\").fillna(0)\n",
    "\n",
    "\n",
    "print(payer_stats.head(2))\n"
   ]
  },
  {
   "cell_type": "code",
   "execution_count": 55,
   "metadata": {},
   "outputs": [
    {
     "name": "stdout",
     "output_type": "stream",
     "text": [
      "   customerID  InvoiceAmount  total  delayRatio  totalAmt  delayAmtRatio  \\\n",
      "0  0379-NEVHP          55.94     27    3.846154   1584.18       3.070989   \n",
      "\n",
      "   avgDaysDelayed  DaysLate  \n",
      "0            17.0         0  \n"
     ]
    }
   ],
   "source": [
    "#dataset.columns.values[1]='payer'\n",
    "#dataset_new=dataset.join(payer_stats.set_index('payer'))\n",
    "dataset_new=pd.merge(dataset,payer_stats,on='customerID',how='left')\n",
    "#dataset_new.columns.values\n",
    "#print(dataset_new.head(1))\n",
    "dataset_new=dataset_new[['customerID', 'InvoiceAmount','total','delayRatio','totalAmt','delayAmtRatio','avgDaysDelayed','DaysLate']]\n",
    "#print(dataset_new.columns.values)\n",
    "#print(dataset_new.shape)\n",
    "dummies = pd.get_dummies(dataset_new.customerID)\n",
    "print(dataset_new.head(1))\n"
   ]
  },
  {
   "cell_type": "code",
   "execution_count": 48,
   "metadata": {},
   "outputs": [],
   "source": [
    "array=dataset_new.values\n",
    "X=array[:,0:7]\n",
    "Y=array[:,7]\n",
    "validation_size=0.20\n",
    "seed=7\n",
    "X_train, X_validation, Y_train, Y_validation = model_selection.train_test_split(X,Y,test_size=validation_size,random_state=seed)"
   ]
  },
  {
   "cell_type": "code",
   "execution_count": 49,
   "metadata": {},
   "outputs": [
    {
     "ename": "ValueError",
     "evalue": "could not convert string to float: '5920-DPXLN'",
     "output_type": "error",
     "traceback": [
      "\u001b[0;31m---------------------------------------------------------------------------\u001b[0m",
      "\u001b[0;31mValueError\u001b[0m                                Traceback (most recent call last)",
      "\u001b[0;32m<ipython-input-49-9a7b7406075c>\u001b[0m in \u001b[0;36m<module>\u001b[0;34m()\u001b[0m\n\u001b[1;32m      1\u001b[0m \u001b[0mlm\u001b[0m\u001b[0;34m=\u001b[0m\u001b[0mLinearRegression\u001b[0m\u001b[0;34m(\u001b[0m\u001b[0;34m)\u001b[0m\u001b[0;34m\u001b[0m\u001b[0m\n\u001b[0;32m----> 2\u001b[0;31m \u001b[0mlm\u001b[0m\u001b[0;34m.\u001b[0m\u001b[0mfit\u001b[0m\u001b[0;34m(\u001b[0m\u001b[0mX_train\u001b[0m\u001b[0;34m,\u001b[0m\u001b[0mY_train\u001b[0m\u001b[0;34m)\u001b[0m\u001b[0;34m\u001b[0m\u001b[0m\n\u001b[0m",
      "\u001b[0;32m/Library/Frameworks/Python.framework/Versions/3.6/lib/python3.6/site-packages/sklearn/linear_model/base.py\u001b[0m in \u001b[0;36mfit\u001b[0;34m(self, X, y, sample_weight)\u001b[0m\n\u001b[1;32m    480\u001b[0m         \u001b[0mn_jobs_\u001b[0m \u001b[0;34m=\u001b[0m \u001b[0mself\u001b[0m\u001b[0;34m.\u001b[0m\u001b[0mn_jobs\u001b[0m\u001b[0;34m\u001b[0m\u001b[0m\n\u001b[1;32m    481\u001b[0m         X, y = check_X_y(X, y, accept_sparse=['csr', 'csc', 'coo'],\n\u001b[0;32m--> 482\u001b[0;31m                          y_numeric=True, multi_output=True)\n\u001b[0m\u001b[1;32m    483\u001b[0m \u001b[0;34m\u001b[0m\u001b[0m\n\u001b[1;32m    484\u001b[0m         \u001b[0;32mif\u001b[0m \u001b[0msample_weight\u001b[0m \u001b[0;32mis\u001b[0m \u001b[0;32mnot\u001b[0m \u001b[0;32mNone\u001b[0m \u001b[0;32mand\u001b[0m \u001b[0mnp\u001b[0m\u001b[0;34m.\u001b[0m\u001b[0matleast_1d\u001b[0m\u001b[0;34m(\u001b[0m\u001b[0msample_weight\u001b[0m\u001b[0;34m)\u001b[0m\u001b[0;34m.\u001b[0m\u001b[0mndim\u001b[0m \u001b[0;34m>\u001b[0m \u001b[0;36m1\u001b[0m\u001b[0;34m:\u001b[0m\u001b[0;34m\u001b[0m\u001b[0m\n",
      "\u001b[0;32m/Library/Frameworks/Python.framework/Versions/3.6/lib/python3.6/site-packages/sklearn/utils/validation.py\u001b[0m in \u001b[0;36mcheck_X_y\u001b[0;34m(X, y, accept_sparse, dtype, order, copy, force_all_finite, ensure_2d, allow_nd, multi_output, ensure_min_samples, ensure_min_features, y_numeric, warn_on_dtype, estimator)\u001b[0m\n\u001b[1;32m    571\u001b[0m     X = check_array(X, accept_sparse, dtype, order, copy, force_all_finite,\n\u001b[1;32m    572\u001b[0m                     \u001b[0mensure_2d\u001b[0m\u001b[0;34m,\u001b[0m \u001b[0mallow_nd\u001b[0m\u001b[0;34m,\u001b[0m \u001b[0mensure_min_samples\u001b[0m\u001b[0;34m,\u001b[0m\u001b[0;34m\u001b[0m\u001b[0m\n\u001b[0;32m--> 573\u001b[0;31m                     ensure_min_features, warn_on_dtype, estimator)\n\u001b[0m\u001b[1;32m    574\u001b[0m     \u001b[0;32mif\u001b[0m \u001b[0mmulti_output\u001b[0m\u001b[0;34m:\u001b[0m\u001b[0;34m\u001b[0m\u001b[0m\n\u001b[1;32m    575\u001b[0m         y = check_array(y, 'csr', force_all_finite=True, ensure_2d=False,\n",
      "\u001b[0;32m/Library/Frameworks/Python.framework/Versions/3.6/lib/python3.6/site-packages/sklearn/utils/validation.py\u001b[0m in \u001b[0;36mcheck_array\u001b[0;34m(array, accept_sparse, dtype, order, copy, force_all_finite, ensure_2d, allow_nd, ensure_min_samples, ensure_min_features, warn_on_dtype, estimator)\u001b[0m\n\u001b[1;32m    431\u001b[0m                                       force_all_finite)\n\u001b[1;32m    432\u001b[0m     \u001b[0;32melse\u001b[0m\u001b[0;34m:\u001b[0m\u001b[0;34m\u001b[0m\u001b[0m\n\u001b[0;32m--> 433\u001b[0;31m         \u001b[0marray\u001b[0m \u001b[0;34m=\u001b[0m \u001b[0mnp\u001b[0m\u001b[0;34m.\u001b[0m\u001b[0marray\u001b[0m\u001b[0;34m(\u001b[0m\u001b[0marray\u001b[0m\u001b[0;34m,\u001b[0m \u001b[0mdtype\u001b[0m\u001b[0;34m=\u001b[0m\u001b[0mdtype\u001b[0m\u001b[0;34m,\u001b[0m \u001b[0morder\u001b[0m\u001b[0;34m=\u001b[0m\u001b[0morder\u001b[0m\u001b[0;34m,\u001b[0m \u001b[0mcopy\u001b[0m\u001b[0;34m=\u001b[0m\u001b[0mcopy\u001b[0m\u001b[0;34m)\u001b[0m\u001b[0;34m\u001b[0m\u001b[0m\n\u001b[0m\u001b[1;32m    434\u001b[0m \u001b[0;34m\u001b[0m\u001b[0m\n\u001b[1;32m    435\u001b[0m         \u001b[0;32mif\u001b[0m \u001b[0mensure_2d\u001b[0m\u001b[0;34m:\u001b[0m\u001b[0;34m\u001b[0m\u001b[0m\n",
      "\u001b[0;31mValueError\u001b[0m: could not convert string to float: '5920-DPXLN'"
     ]
    }
   ],
   "source": [
    "lm=LinearRegression()\n",
    "lm.fit(X_train,Y_train)"
   ]
  },
  {
   "cell_type": "code",
   "execution_count": null,
   "metadata": {},
   "outputs": [],
   "source": []
  }
 ],
 "metadata": {
  "kernelspec": {
   "display_name": "Python 3",
   "language": "python",
   "name": "python3"
  },
  "language_info": {
   "codemirror_mode": {
    "name": "ipython",
    "version": 3
   },
   "file_extension": ".py",
   "mimetype": "text/x-python",
   "name": "python",
   "nbconvert_exporter": "python",
   "pygments_lexer": "ipython3",
   "version": "3.6.3"
  }
 },
 "nbformat": 4,
 "nbformat_minor": 2
}
