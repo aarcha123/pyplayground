{
 "cells": [
  {
   "cell_type": "code",
   "execution_count": 63,
   "metadata": {},
   "outputs": [
    {
     "name": "stdout",
     "output_type": "stream",
     "text": [
      "h\n",
      "11\n",
      "hello world\n"
     ]
    }
   ],
   "source": [
    "# Strings\n",
    "data='hello world'\n",
    "print(data[0])\n",
    "print(len(data))\n",
    "print(data)"
   ]
  },
  {
   "cell_type": "code",
   "execution_count": 5,
   "metadata": {},
   "outputs": [
    {
     "name": "stdout",
     "output_type": "stream",
     "text": [
      "123.4\n",
      "13\n"
     ]
    }
   ],
   "source": [
    "# numbers\n",
    "num=123.4\n",
    "print(num)\n",
    "num=13\n",
    "print(num)"
   ]
  },
  {
   "cell_type": "code",
   "execution_count": 6,
   "metadata": {},
   "outputs": [
    {
     "name": "stdout",
     "output_type": "stream",
     "text": [
      "True False\n"
     ]
    }
   ],
   "source": [
    "#boolean\n",
    "a=True\n",
    "b=False\n",
    "print(a,b)"
   ]
  },
  {
   "cell_type": "code",
   "execution_count": 7,
   "metadata": {},
   "outputs": [
    {
     "name": "stdout",
     "output_type": "stream",
     "text": [
      "1 2 3\n"
     ]
    }
   ],
   "source": [
    "#Multiple assignment\n",
    "a,b,c=1,2,3\n",
    "print(a,b,c)"
   ]
  },
  {
   "cell_type": "code",
   "execution_count": 8,
   "metadata": {},
   "outputs": [
    {
     "name": "stdout",
     "output_type": "stream",
     "text": [
      "None\n"
     ]
    }
   ],
   "source": [
    "#no value or null\n",
    "a=None\n",
    "print(a)"
   ]
  },
  {
   "cell_type": "code",
   "execution_count": 17,
   "metadata": {},
   "outputs": [
    {
     "name": "stdout",
     "output_type": "stream",
     "text": [
      "this is  fast\n"
     ]
    }
   ],
   "source": [
    "#if else statement\n",
    "value=90\n",
    "if value>=120:\n",
    "    print('this is too fast')\n",
    "elif value>=80:\n",
    "    print('this is fast')\n",
    "else:\n",
    "    print('this is safe')"
   ]
  },
  {
   "cell_type": "code",
   "execution_count": 18,
   "metadata": {},
   "outputs": [
    {
     "name": "stdout",
     "output_type": "stream",
     "text": [
      "0\n",
      "1\n",
      "2\n",
      "3\n",
      "4\n",
      "5\n",
      "6\n",
      "7\n",
      "8\n",
      "9\n"
     ]
    }
   ],
   "source": [
    "#for loop\n",
    "for i in range(10):\n",
    "    print(i)"
   ]
  },
  {
   "cell_type": "code",
   "execution_count": 22,
   "metadata": {},
   "outputs": [
    {
     "name": "stdout",
     "output_type": "stream",
     "text": [
      "0\n",
      "1\n",
      "2\n",
      "3\n",
      "4\n",
      "5\n",
      "6\n",
      "7\n",
      "8\n",
      "9\n"
     ]
    }
   ],
   "source": [
    "#while loop\n",
    "i=0\n",
    "while i<10:\n",
    "    print(i)\n",
    "    i+=1"
   ]
  },
  {
   "cell_type": "code",
   "execution_count": 23,
   "metadata": {},
   "outputs": [
    {
     "name": "stdout",
     "output_type": "stream",
     "text": [
      "(1, 2, 4)\n"
     ]
    }
   ],
   "source": [
    "#Tuple\n",
    "a=(1,2,4)\n",
    "print(a)"
   ]
  },
  {
   "cell_type": "code",
   "execution_count": 66,
   "metadata": {},
   "outputs": [
    {
     "name": "stdout",
     "output_type": "stream",
     "text": [
      "first value 1\n",
      "4\n",
      "length= 5\n",
      "1\n",
      "2\n",
      "3\n",
      "4\n",
      "5\n"
     ]
    }
   ],
   "source": [
    "#List\n",
    "mylist=[1,2,3,4]\n",
    "print(\"first value %d\"% mylist[0])\n",
    "print(len(mylist))\n",
    "mylist.append(5)\n",
    "print(\"length=\",len(mylist))\n",
    "for value in mylist:\n",
    "    print(value)"
   ]
  },
  {
   "cell_type": "code",
   "execution_count": 35,
   "metadata": {},
   "outputs": [
    {
     "name": "stdout",
     "output_type": "stream",
     "text": [
      "A value : 1\n",
      "A value : 12\n",
      "keys= dict_keys(['a', 'b', 'c'])\n",
      "values= dict_values([12, 2, 3])\n",
      "12\n",
      "2\n",
      "3\n"
     ]
    }
   ],
   "source": [
    "#dictionary\n",
    "mydict={'a':1,'b':2,'c':3}\n",
    "print('A value :',mydict['a'])\n",
    "mydict['a']=12\n",
    "print('A value :',mydict['a'])\n",
    "print('keys=',mydict.keys())\n",
    "print('values=',mydict.values())\n",
    "for key in mydict.keys():\n",
    "    print(mydict[key])\n"
   ]
  },
  {
   "cell_type": "code",
   "execution_count": 38,
   "metadata": {},
   "outputs": [
    {
     "name": "stdout",
     "output_type": "stream",
     "text": [
      "5\n"
     ]
    }
   ],
   "source": [
    "#functions\n",
    "def mysum(x,y):\n",
    "    return x+y\n",
    "print(mysum(2,3))"
   ]
  },
  {
   "cell_type": "code",
   "execution_count": 46,
   "metadata": {},
   "outputs": [
    {
     "name": "stdout",
     "output_type": "stream",
     "text": [
      "<class 'list'>\n",
      "<class 'numpy.ndarray'>\n",
      "[1 2 3]\n",
      "(3,)\n",
      "[[1 2 3]\n",
      " [5 6 7]]\n",
      "(2, 3)\n"
     ]
    }
   ],
   "source": [
    "#numpy - array creation\n",
    "import numpy as np\n",
    "mylist=[1,2,3]\n",
    "print(type(mylist))\n",
    "nparray=np.array(mylist)\n",
    "print(type(nparray))\n",
    "print(nparray)\n",
    "print(nparray.shape)\n"
   ]
  },
  {
   "cell_type": "code",
   "execution_count": 59,
   "metadata": {},
   "outputs": [
    {
     "name": "stdout",
     "output_type": "stream",
     "text": [
      "[[1 2 3]\n",
      " [5 6 7]]\n",
      "(2, 3)\n",
      "first row= [1 2 3]\n",
      "last row= [5 6 7]\n",
      "specific row col= 6\n",
      "first col= [1 5]\n",
      "second col= [[2]\n",
      " [6]]\n"
     ]
    }
   ],
   "source": [
    "# numpy - array access\n",
    "mylist=[[1,2,3],[5,6,7]]\n",
    "nparray=np.array(mylist)\n",
    "print(nparray)\n",
    "print(nparray.shape)\n",
    "print(\"first row=\",nparray[0])\n",
    "print(\"last row=\",nparray[-1])\n",
    "print(\"specific row col=\",nparray[1,1])\n",
    "print(\"first col=\",nparray[:,0])\n",
    "#further divide into arrays\n",
    "print(\"second col=\",nparray[:,1:2])"
   ]
  },
  {
   "cell_type": "code",
   "execution_count": 61,
   "metadata": {},
   "outputs": [
    {
     "name": "stdout",
     "output_type": "stream",
     "text": [
      "sum= [6 7 8]\n",
      "product= [ 5 10 15]\n"
     ]
    }
   ],
   "source": [
    "# numpy arithmetic\n",
    "myarray1=np.array([1,2,3])\n",
    "myarray2=np.array([5,5,5])\n",
    "print(\"sum=\",myarray1+myarray2)\n",
    "print(\"product=\",myarray1*myarray2)"
   ]
  },
  {
   "cell_type": "code",
   "execution_count": null,
   "metadata": {},
   "outputs": [],
   "source": []
  }
 ],
 "metadata": {
  "kernelspec": {
   "display_name": "Python 3",
   "language": "python",
   "name": "python3"
  },
  "language_info": {
   "codemirror_mode": {
    "name": "ipython",
    "version": 3
   },
   "file_extension": ".py",
   "mimetype": "text/x-python",
   "name": "python",
   "nbconvert_exporter": "python",
   "pygments_lexer": "ipython3",
   "version": "3.6.3"
  }
 },
 "nbformat": 4,
 "nbformat_minor": 2
}
